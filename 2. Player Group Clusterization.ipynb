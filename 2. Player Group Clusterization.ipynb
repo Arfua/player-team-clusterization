{
 "cells": [
  {
   "cell_type": "markdown",
   "metadata": {},
   "source": [
    "### Player group (team) clusterization"
   ]
  },
  {
   "cell_type": "code",
   "execution_count": null,
   "metadata": {},
   "outputs": [],
   "source": [
    "import os\n",
    "import random\n",
    "from time import time\n",
    "from shutil import copy2\n",
    "from collections import Counter\n",
    "\n",
    "import numpy as np\n",
    "import pandas as pd\n",
    "import cv2\n",
    "from cv2 import compareHist\n",
    "from scipy.spatial.distance import (\n",
    "    cosine, euclidean,\n",
    "    braycurtis, canberra, chebyshev, correlation, dice, hamming, jaccard,\n",
    "    kulsinski, mahalanobis, matching, minkowski, rogerstanimoto, russellrao, \n",
    "    seuclidean, sokalmichener, sokalsneath, sqeuclidean, yule\n",
    ")\n",
    "from scipy.spatial.distance import pdist\n",
    "from scipy.cluster.hierarchy import linkage, dendrogram\n",
    "from sklearn.metrics import pairwise_distances\n",
    "from sklearn import manifold\n",
    "from sklearn.decomposition import PCA\n",
    "from sklearn.cluster import SpectralClustering, KMeans, DBSCAN, AgglomerativeClustering\n",
    "from sklearn.neighbors import LocalOutlierFactor\n",
    "import warnings; warnings.filterwarnings('ignore')\n",
    "import matplotlib.pylab as plt\n",
    "%matplotlib inline"
   ]
  },
  {
   "cell_type": "code",
   "execution_count": null,
   "metadata": {},
   "outputs": [],
   "source": [
    "# whether to use Embeddings or Histograms as image feature-vectors\n",
    "use_embeddings = False"
   ]
  },
  {
   "cell_type": "code",
   "execution_count": null,
   "metadata": {},
   "outputs": [],
   "source": [
    "# load image feature-vectors dataset\n",
    "if use_embeddings:\n",
    "    x_data = \"X_df_embed\"\n",
    "    y_data = \"y_df_embed\"\n",
    "else:\n",
    "    x_data = \"X_df\"\n",
    "    y_data = \"y_df\"\n",
    "X_df = pd.read_pickle(x_data)\n",
    "y_df = pd.read_pickle(y_data)\n",
    "\n",
    "X_12 = X_df[y_df.isin([1,2])]\n",
    "y_12 = list(y_df[y_df.isin([1,2])])\n",
    "Xy_12_df = X_12.copy()\n",
    "Xy_12_df['target'] = y_12\n",
    "Counter(y_df), Counter(y_12)"
   ]
  },
  {
   "cell_type": "markdown",
   "metadata": {},
   "source": [
    "### TSNE"
   ]
  },
  {
   "cell_type": "code",
   "execution_count": null,
   "metadata": {},
   "outputs": [],
   "source": [
    "def draw_tsne(X_12, y_12, perplexity, n_components):\n",
    "    tsne = manifold.TSNE(n_components=n_components, init='pca', random_state=0, perplexity=perplexity)\n",
    "    t0 = time()\n",
    "    X_tsne = tsne.fit_transform(X_12)\n",
    "\n",
    "    print('Samples in each team', X_12.shape[0] // 2, ', perplexity', perplexity)\n",
    "    color_dict = {1: 'red', 2: 'yellow', 0: 'black'}\n",
    "    colors = [color_dict[label] for label in y_12]\n",
    "    plt.scatter([x[0] for x in X_tsne], [x[1] for x  in X_tsne], color=colors)\n",
    "    return X_tsne"
   ]
  },
  {
   "cell_type": "code",
   "execution_count": null,
   "metadata": {
    "scrolled": true
   },
   "outputs": [],
   "source": [
    "X_tsne_15 = draw_tsne(X_12[0:200], y_12[:200], 5, 2)"
   ]
  },
  {
   "cell_type": "code",
   "execution_count": null,
   "metadata": {
    "scrolled": true
   },
   "outputs": [],
   "source": [
    "X_tsne_10 = draw_tsne(X_12[0:210], y_12[:210], 10, 2)"
   ]
  },
  {
   "cell_type": "code",
   "execution_count": null,
   "metadata": {},
   "outputs": [],
   "source": [
    "X_12.shape, len(y_12)"
   ]
  },
  {
   "cell_type": "markdown",
   "metadata": {},
   "source": [
    "### PCA"
   ]
  },
  {
   "cell_type": "code",
   "execution_count": null,
   "metadata": {},
   "outputs": [],
   "source": [
    "color_dict = {1: 'red', 2: 'yellow', 0: 'black', 3: 'orange', 4:'green'}\n",
    "colors = [color_dict[x] for x in y_12[:210]]\n",
    "pca = PCA(n_components=5)\n",
    "pca = pca.fit_transform(X_12[:210])\n",
    "fig = plt.figure(figsize=(20,5))\n",
    "a=fig.add_subplot(1, 3, 1)\n",
    "a.scatter([x[0] for x in pca], [x[1] for x  in pca], color=colors)\n",
    "a.set_title('PCA 1st and 2nd components')\n",
    "a=fig.add_subplot(1, 3, 2)\n",
    "a.scatter([x[1] for x in pca], [x[2] for x  in pca], color=colors)\n",
    "a.set_title('PCA 2nd and 3rd components')\n",
    "a=fig.add_subplot(1, 3, 3)\n",
    "a.scatter([x[0] for x in pca], [x[2] for x in pca], color=colors)\n",
    "a.set_title('PCA 1st and 3rd components')"
   ]
  },
  {
   "cell_type": "markdown",
   "metadata": {},
   "source": [
    "## Clusterization"
   ]
  },
  {
   "cell_type": "markdown",
   "metadata": {},
   "source": [
    "![\"cluster-comparison\"](extras/cluster_comparison_shadow.png)"
   ]
  },
  {
   "cell_type": "markdown",
   "metadata": {},
   "source": [
    "### Clusterization - KMeans"
   ]
  },
  {
   "cell_type": "code",
   "execution_count": null,
   "metadata": {},
   "outputs": [],
   "source": [
    "def clusterization(model, group_size, number_of_images=1000):\n",
    "    '''\n",
    "    Cuts feature dataset on groups of size 'group_size', and performs clusterization for each group.  \n",
    "    '''\n",
    "    for i in range(0, number_of_images, 2*group_size):\n",
    "        model = model.fit(X_12[i: i + 2*group_size])\n",
    "        labels = model.labels_\n",
    "        evaluate(Xy_12_df[i: i + 2*group_size], labels)\n",
    "        print('===========================================================')\n",
    "\n",
    "def print_clusters(person_type, labels):\n",
    "    if not len(labels):\n",
    "        return\n",
    "    print(person_type, len(labels), 'images:')\n",
    "    counts = Counter(labels)\n",
    "    print('>>  ' + '; '.join([\"cluster_\" + str(k) + \": \" + str(counts[k]) for k in counts]))\n",
    "    print('-----------------------------------')\n",
    "\n",
    "def evaluate(df, labels):\n",
    "    '''\n",
    "    Compares clusterization labels with true labels. \n",
    "    '''\n",
    "    labels0 = labels[df['target']==0]\n",
    "    print_clusters('Referee:', labels0)\n",
    "    labels1 = labels[df['target']==1]\n",
    "    print_clusters('Team1 -', labels1)\n",
    "    labels2 = labels[df['target']==2]\n",
    "    print_clusters('Team2 -', labels2)"
   ]
  },
  {
   "cell_type": "code",
   "execution_count": null,
   "metadata": {},
   "outputs": [],
   "source": [
    "kmeans = KMeans(max_iter = 100, n_clusters=2, random_state=0).fit(X_12[:200])"
   ]
  },
  {
   "cell_type": "code",
   "execution_count": null,
   "metadata": {},
   "outputs": [],
   "source": [
    "clusterization(kmeans, group_size=10, number_of_images=100)"
   ]
  },
  {
   "cell_type": "code",
   "execution_count": null,
   "metadata": {},
   "outputs": [],
   "source": [
    "clusterization(kmeans, group_size=100, number_of_images=1000)"
   ]
  },
  {
   "cell_type": "markdown",
   "metadata": {},
   "source": [
    "### Clusterization - DBScan"
   ]
  },
  {
   "cell_type": "code",
   "execution_count": null,
   "metadata": {},
   "outputs": [],
   "source": [
    "eps = 0.1\n",
    "dbscan = DBSCAN(eps=eps, metric=cosine, algorithm='brute', n_jobs=4)\n",
    "print('results for epsilon {}\\n'.format(eps))\n",
    "clusterization(dbscan, group_size=10, number_of_images=100)"
   ]
  },
  {
   "cell_type": "code",
   "execution_count": null,
   "metadata": {},
   "outputs": [],
   "source": [
    "clusterization(dbscan, group_size=100, number_of_images=1000)"
   ]
  },
  {
   "cell_type": "markdown",
   "metadata": {},
   "source": [
    "### Clusterization - Agglomerative"
   ]
  },
  {
   "cell_type": "markdown",
   "metadata": {},
   "source": [
    "![](extras/Hierarchical-Clustering-Dendrogram.png)"
   ]
  },
  {
   "cell_type": "markdown",
   "metadata": {},
   "source": [
    "[Histogram Comparison in OpenCV](https://docs.opencv.org/2.4/modules/imgproc/doc/histograms.html)"
   ]
  },
  {
   "cell_type": "markdown",
   "metadata": {},
   "source": [
    "#### Hellinger distance (Bhattacharyya distance)"
   ]
  },
  {
   "cell_type": "markdown",
   "metadata": {},
   "source": [
    "![HELLINGER](extras/metrics_hellinger.png)\n",
    "where\n",
    "\n",
    "H1 – 1st compared histogram,\n",
    "\n",
    "H2 – 2nd compared histogram of the same size as H1,\n",
    "\n",
    "N – total number of histogram bins.\n",
    "\n",
    "\n"
   ]
  },
  {
   "cell_type": "code",
   "execution_count": null,
   "metadata": {},
   "outputs": [],
   "source": [
    "metric_hellinger = lambda x, y: compareHist(x.astype(np.float32), y.astype(np.float32), cv2.HISTCMP_HELLINGER)\n",
    "affinity = lambda x, m=metric_hellinger: pairwise_distances(x, metric=m)"
   ]
  },
  {
   "cell_type": "code",
   "execution_count": null,
   "metadata": {},
   "outputs": [],
   "source": [
    "print('with *scikit*')\n",
    "print('Metric HELLINGER')\n",
    "if use_embeddings:\n",
    "    affinity = 'cosine'\n",
    "agglo = AgglomerativeClustering(n_clusters=2, affinity=affinity, memory=None, linkage='average')\n",
    "clusterization(agglo, 100, 1000)"
   ]
  },
  {
   "cell_type": "code",
   "execution_count": null,
   "metadata": {},
   "outputs": [],
   "source": [
    "default_metric = metric_hellinger\n",
    "default_metric_name = 'HELLINGER'\n",
    "if use_embeddings:\n",
    "    default_metric = 'cosine'\n",
    "    default_metric_name = 'COSINE'"
   ]
  },
  {
   "cell_type": "code",
   "execution_count": null,
   "metadata": {},
   "outputs": [],
   "source": [
    "print('With *scipy*')\n",
    "print(f'Metric {default_metric_name}')\n",
    "group_size = 100\n",
    "number_of_images = 1000\n",
    "print('Team size: ', group_size, '\\n')\n",
    "for i in range(0, number_of_images, 2*group_size):\n",
    "    y = pdist(X_12[i: i + 2*group_size], default_metric)\n",
    "    linkage_matrix = linkage(y, method='average', optimal_ordering=True)\n",
    "    dd = dendrogram(linkage_matrix, no_plot=True)\n",
    "    labels = [1] * group_size + [2] * group_size\n",
    "    idx = dd['leaves']\n",
    "    idx_df = pd.Series(labels, index=idx).sort_index()\n",
    "    evaluate(Xy_12_df[i: i + 2*group_size], idx_df.values)\n",
    "    print('============================================================================================')"
   ]
  },
  {
   "cell_type": "code",
   "execution_count": null,
   "metadata": {},
   "outputs": [],
   "source": [
    "y = pdist(X_12[120: 140], default_metric)\n",
    "linkage_matrix = linkage(y, method='average', optimal_ordering=True)\n",
    "dd = dendrogram(linkage_matrix, no_plot=False)"
   ]
  },
  {
   "cell_type": "markdown",
   "metadata": {},
   "source": [
    "### Clusterization - Spectral"
   ]
  },
  {
   "cell_type": "code",
   "execution_count": null,
   "metadata": {},
   "outputs": [],
   "source": [
    "spectral = SpectralClustering(n_clusters=2, n_init=100, affinity=default_metric, n_neighbors=10, n_jobs=4)\n",
    "clusterization(spectral, 100, 1000)"
   ]
  },
  {
   "cell_type": "markdown",
   "metadata": {},
   "source": [
    "### Referee and Team identification"
   ]
  },
  {
   "cell_type": "code",
   "execution_count": null,
   "metadata": {},
   "outputs": [],
   "source": [
    "def agglomerative_clustering(vectors, metric):\n",
    "    '''\n",
    "    Applies Agglomerative clustering to identify teams.\n",
    "    '''\n",
    "    linkage_matrix = linkage(vectors, method=\"average\", metric=metric, optimal_ordering=True)\n",
    "    return dendrogram(linkage_matrix, no_plot=True)[\"leaves\"]\n",
    "\n",
    "def find_outlier(X, metric):\n",
    "    '''\n",
    "    Applies Outlier model to identify referee.\n",
    "    '''\n",
    "    referee_classifier = LocalOutlierFactor(n_neighbors=3, contamination=0.04, metric=metric)\n",
    "    preds = referee_classifier.fit_predict(X)\n",
    "    return preds.argmin()\n",
    "\n",
    "def cluster(X, y, group_size, outlier_metric, team_metric):\n",
    "    '''\n",
    "    Clusters X feature dataset on 2 teams and referee. Returns whether referee and teams were indetified. \n",
    "    '''\n",
    "    team_1_features = X[y == 1]\n",
    "    team_2_features = X[y == 2]\n",
    "    referee_features = X[y == 0]\n",
    "    team_1_true_ids = np.array(range(group_size))[y == 1]\n",
    "    team_2_true_ids = np.array(range(group_size))[y == 2]\n",
    "    referee_true_id = np.array(range(group_size))[y == 0][0]\n",
    "\n",
    "    referee_predicted_id = find_outlier(X, outlier_metric)\n",
    "    referee_identified = referee_true_id == referee_predicted_id\n",
    "    \n",
    "    team_1_true_ids[team_1_true_ids > referee_true_id] -= 1\n",
    "    team_2_true_ids[team_2_true_ids > referee_true_id] -= 1    \n",
    "    features = np.concatenate([team_1_features, team_2_features])\n",
    "    idx = agglomerative_clustering(features, team_metric)\n",
    "    team_1_predicted_ids = idx[: (group_size - 1) // 2]\n",
    "    team_2_predicted_ids = idx[(group_size - 1) // 2:]\n",
    "    team_clusters_case_1 = (set(team_1_predicted_ids) == set(team_1_true_ids)) and (\n",
    "        set(team_2_predicted_ids) == set(team_2_true_ids))\n",
    "    team_clusters_case_2 = (set(team_1_predicted_ids) == set(team_2_true_ids)) and (\n",
    "        set(team_2_predicted_ids) == set(team_1_true_ids))\n",
    "    return referee_identified, team_clusters_case_1 or team_clusters_case_2"
   ]
  },
  {
   "cell_type": "code",
   "execution_count": null,
   "metadata": {},
   "outputs": [],
   "source": [
    "def indentify_people(metrics):\n",
    "    '''\n",
    "    Evaluates accuracy of the team and referee clusterization.\n",
    "    '''\n",
    "    group_size = 21\n",
    "    clusterization_results = []\n",
    "    for i in range(0, len(X_df), group_size):\n",
    "        X, y = X_df[i: i + group_size], y_df[i: i + group_size]\n",
    "        clusterization_results.append(cluster(X, y, group_size, **metrics))\n",
    "\n",
    "    print(f\"Referee identified: {sum([x[0] for x in clusterization_results])} out of {len(clusterization_results)}\")\n",
    "    print(f\"2 teams clustered: {sum([x[1] for x in clusterization_results])} out of {len(clusterization_results)}\")"
   ]
  },
  {
   "cell_type": "markdown",
   "metadata": {},
   "source": [
    "#### canberra distance\n",
    "![](extras/canberra.png)\n",
    "where\n",
    "\n",
    "u - 1st histogram,\n",
    "\n",
    "v - 2nd histogram."
   ]
  },
  {
   "cell_type": "code",
   "execution_count": null,
   "metadata": {},
   "outputs": [],
   "source": [
    "metrics = {'outlier_metric': canberra, 'team_metric': canberra}\n",
    "indentify_people(metrics)"
   ]
  },
  {
   "cell_type": "code",
   "execution_count": null,
   "metadata": {},
   "outputs": [],
   "source": [
    "metrics = {'outlier_metric': cosine, 'team_metric': cosine}\n",
    "indentify_people(metrics)"
   ]
  },
  {
   "cell_type": "code",
   "execution_count": null,
   "metadata": {},
   "outputs": [],
   "source": [
    "metrics = {'outlier_metric': default_metric, 'team_metric': default_metric}\n",
    "indentify_people(metrics)"
   ]
  },
  {
   "cell_type": "code",
   "execution_count": null,
   "metadata": {},
   "outputs": [],
   "source": []
  }
 ],
 "metadata": {
  "hide_input": false,
  "kernelspec": {
   "display_name": "Python 3",
   "language": "python",
   "name": "python3"
  },
  "language_info": {
   "codemirror_mode": {
    "name": "ipython",
    "version": 3
   },
   "file_extension": ".py",
   "mimetype": "text/x-python",
   "name": "python",
   "nbconvert_exporter": "python",
   "pygments_lexer": "ipython3",
   "version": "3.6.6"
  }
 },
 "nbformat": 4,
 "nbformat_minor": 2
}
