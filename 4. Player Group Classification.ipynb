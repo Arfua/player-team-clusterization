{
 "cells": [
  {
   "cell_type": "markdown",
   "metadata": {},
   "source": [
    "### Player group (team) classification"
   ]
  },
  {
   "cell_type": "code",
   "execution_count": null,
   "metadata": {},
   "outputs": [],
   "source": [
    "from collections import Counter\n",
    "\n",
    "import pandas as pd\n",
    "from sklearn.metrics import confusion_matrix\n",
    "from sklearn.naive_bayes import BernoulliNB, MultinomialNB, GaussianNB\n",
    "import sklearn.linear_model as lm\n",
    "from lightgbm import LGBMClassifier\n",
    "import warnings; warnings.filterwarnings('ignore')\n",
    "import matplotlib.pylab as plt\n",
    "%matplotlib inline"
   ]
  },
  {
   "cell_type": "code",
   "execution_count": null,
   "metadata": {},
   "outputs": [],
   "source": [
    "X_df = pd.read_pickle(\"X_df\")\n",
    "y_df = pd.read_pickle(\"y_df\")\n",
    "\n",
    "X_12 = X_df[y_df.isin([1,2])]\n",
    "y_12 = list(y_df[y_df.isin([1,2])])\n",
    "Counter(y_df), Counter(y_12)"
   ]
  },
  {
   "cell_type": "markdown",
   "metadata": {},
   "source": [
    "### Training classifier on few frames"
   ]
  },
  {
   "cell_type": "code",
   "execution_count": null,
   "metadata": {},
   "outputs": [],
   "source": [
    "def fit_classifier(model, row_from, row_to, data_X, data_y):\n",
    "    model = model.fit(data_X[row_from: row_to], data_y[row_from: row_to])\n",
    "    preds = model.predict_proba(data_X[row_to:])\n",
    "    max_preds = preds.argmax(axis=1)\n",
    "    if 0 not in set(data_y):\n",
    "        max_preds += 1\n",
    "    print('Confusion matrix:\\n', confusion_matrix(data_y[row_to:], max_preds))\n",
    "    plt.hist(preds.max(axis=1))"
   ]
  },
  {
   "cell_type": "code",
   "execution_count": null,
   "metadata": {},
   "outputs": [],
   "source": [
    "fit_classifier(lm.LogisticRegression(C=300.0), 0, 300, X_12, y_12)"
   ]
  },
  {
   "cell_type": "code",
   "execution_count": null,
   "metadata": {},
   "outputs": [],
   "source": [
    "fit_classifier(lm.LogisticRegression(C=300.0), 0, 600, X_12, y_12)"
   ]
  },
  {
   "cell_type": "code",
   "execution_count": null,
   "metadata": {},
   "outputs": [],
   "source": [
    "fit_classifier(lm.LogisticRegression(C=300.0), 0, 600, X_df, y_df)"
   ]
  },
  {
   "cell_type": "code",
   "execution_count": null,
   "metadata": {},
   "outputs": [],
   "source": [
    "fit_classifier(LGBMClassifier(), 0, 300, X_12, y_12)"
   ]
  },
  {
   "cell_type": "code",
   "execution_count": null,
   "metadata": {},
   "outputs": [],
   "source": [
    "fit_classifier(LGBMClassifier(), 0, 600, X_df, y_df)"
   ]
  },
  {
   "cell_type": "code",
   "execution_count": null,
   "metadata": {
    "scrolled": false
   },
   "outputs": [],
   "source": [
    "def partial_fit_classifier(model, max_number_of_frames_train, X, y, classes):\n",
    "    for i in range(0, 20*max_number_of_frames_train, 20):\n",
    "        model = model.partial_fit(X[i:i+20], y[i:i+20], classes=classes)\n",
    "        preds = model.predict(X[i+20:])\n",
    "        number_of_frames_test = (len(X) - (i + 20) ) // 20\n",
    "        print(f'Confusion matrix. {number_of_frames_test} test frames (fitted on first {(i+20)//2} frames):')\n",
    "        print(confusion_matrix(preds, y[i+20:]))"
   ]
  },
  {
   "cell_type": "code",
   "execution_count": null,
   "metadata": {},
   "outputs": [],
   "source": [
    "sgd = lm.SGDClassifier(loss='hinge', penalty='l2')\n",
    "partial_fit_classifier(sgd, 50, X_12, y_12, [1, 2])"
   ]
  },
  {
   "cell_type": "code",
   "execution_count": null,
   "metadata": {},
   "outputs": [],
   "source": [
    "partial_fit_classifier(BernoulliNB(alpha=0.1, binarize=0.0), 50, X_12, y_12, [1, 2])\n",
    "    "
   ]
  },
  {
   "cell_type": "code",
   "execution_count": null,
   "metadata": {},
   "outputs": [],
   "source": [
    "partial_fit_classifier(MultinomialNB(), 50, X_12, y_12, [1, 2])"
   ]
  },
  {
   "cell_type": "code",
   "execution_count": null,
   "metadata": {},
   "outputs": [],
   "source": [
    "partial_fit_classifier(GaussianNB(), 50, X_12, y_12, [1, 2])"
   ]
  },
  {
   "cell_type": "code",
   "execution_count": null,
   "metadata": {},
   "outputs": [],
   "source": [
    "X_012 = X_df[y_df.isin([0, 1, 2])]\n",
    "y_012 = list(y_df[y_df.isin([0, 1, 2])])\n",
    "partial_fit_classifier(BernoulliNB(alpha=0.1, binarize=0.0), 50, X_012, y_012, [0, 1, 2])"
   ]
  },
  {
   "cell_type": "code",
   "execution_count": null,
   "metadata": {},
   "outputs": [],
   "source": [
    "partial_fit_classifier(MultinomialNB(), 50, X_012, y_012, [0, 1, 2])"
   ]
  },
  {
   "cell_type": "code",
   "execution_count": null,
   "metadata": {},
   "outputs": [],
   "source": []
  }
 ],
 "metadata": {
  "hide_input": false,
  "kernelspec": {
   "display_name": "Python 3",
   "language": "python",
   "name": "python3"
  },
  "language_info": {
   "codemirror_mode": {
    "name": "ipython",
    "version": 3
   },
   "file_extension": ".py",
   "mimetype": "text/x-python",
   "name": "python",
   "nbconvert_exporter": "python",
   "pygments_lexer": "ipython3",
   "version": "3.6.6"
  }
 },
 "nbformat": 4,
 "nbformat_minor": 2
}
