{
 "cells": [
  {
   "cell_type": "markdown",
   "metadata": {},
   "source": [
    "### Player group (team) dataset preparation"
   ]
  },
  {
   "cell_type": "code",
   "execution_count": null,
   "metadata": {},
   "outputs": [],
   "source": [
    "import os\n",
    "from collections import Counter\n",
    "\n",
    "import pandas as pd\n",
    "%matplotlib inline\n",
    "\n",
    "from generate_histograms import RgbHistogramsGenerator, HsvHistogramsGenerator, OnPartsHistogramsGenerator"
   ]
  },
  {
   "cell_type": "code",
   "execution_count": null,
   "metadata": {},
   "outputs": [],
   "source": [
    "src_path = 'groups_to_cluster_from_tracker/arsenal__0-74__groups/'\n",
    "files = sorted([src_path + x for x in os.listdir(src_path)])"
   ]
  },
  {
   "cell_type": "markdown",
   "metadata": {},
   "source": [
    "### Create feature dataset"
   ]
  },
  {
   "cell_type": "code",
   "execution_count": null,
   "metadata": {},
   "outputs": [],
   "source": [
    "# different scenarios - generation of different type of image feature vectors (based on histograms)\n",
    "SCENARIO_NUMBER = 1"
   ]
  },
  {
   "cell_type": "code",
   "execution_count": null,
   "metadata": {},
   "outputs": [],
   "source": [
    "feature_generation_scenarios = {\n",
    "    1: {'generator': RgbHistogramsGenerator, 'params': {'set_mask': False,'crop_coefficient': 0}},\n",
    "    2: {'generator': RgbHistogramsGenerator, 'params': {'set_mask': True, 'crop_coefficient': 0}},\n",
    "    3: {'generator': RgbHistogramsGenerator, 'params': {'set_mask': False, 'crop_coefficient': 0.2}},\n",
    "    4: {'generator': HsvHistogramsGenerator, 'params': {'set_mask': False, 'crop_coefficient': 0}},\n",
    "    5: {'generator': OnPartsHistogramsGenerator, 'params': {'set_mask': False, 'crop_coefficient': 0}}}"
   ]
  },
  {
   "cell_type": "code",
   "execution_count": null,
   "metadata": {
    "scrolled": false
   },
   "outputs": [],
   "source": [
    "generate_histograms = feature_generation_scenarios[SCENARIO_NUMBER]['generator'](\n",
    "    **feature_generation_scenarios[SCENARIO_NUMBER]['params'])\n",
    "hist_files = generate_histograms.get_representations(files)\n",
    "X_df = pd.DataFrame(hist_files)\n",
    "y_df = pd.Series([[person_type in f for person_type in [\"referee\", \"team1\", \"team2\"]].index(True) for f in files])\n",
    "Counter(y_df)"
   ]
  },
  {
   "cell_type": "markdown",
   "metadata": {},
   "source": [
    "### Drawing images"
   ]
  },
  {
   "cell_type": "code",
   "execution_count": null,
   "metadata": {},
   "outputs": [],
   "source": [
    "generate_histograms.show_images(files[:11])"
   ]
  },
  {
   "cell_type": "code",
   "execution_count": null,
   "metadata": {},
   "outputs": [],
   "source": [
    "generate_histograms.show_images(files[11:21])"
   ]
  },
  {
   "cell_type": "code",
   "execution_count": null,
   "metadata": {
    "scrolled": true
   },
   "outputs": [],
   "source": [
    "generate_histograms.show_images(files[21*10: 21*11])"
   ]
  },
  {
   "cell_type": "markdown",
   "metadata": {},
   "source": [
    "### Visualize histogram feature-vectors and save dataset"
   ]
  },
  {
   "cell_type": "code",
   "execution_count": null,
   "metadata": {},
   "outputs": [],
   "source": [
    "player_ids = [0, 2, 11]\n",
    "X_df.loc[player_ids]"
   ]
  },
  {
   "cell_type": "code",
   "execution_count": null,
   "metadata": {},
   "outputs": [],
   "source": [
    "generate_histograms.show_histograms([files[i] for i in player_ids])"
   ]
  },
  {
   "cell_type": "code",
   "execution_count": null,
   "metadata": {},
   "outputs": [],
   "source": [
    "X_df.to_pickle(\"X_df\")\n",
    "y_df.to_pickle(\"y_df\")"
   ]
  },
  {
   "cell_type": "code",
   "execution_count": null,
   "metadata": {},
   "outputs": [],
   "source": []
  }
 ],
 "metadata": {
  "hide_input": false,
  "kernelspec": {
   "display_name": "Python 3",
   "language": "python",
   "name": "python3"
  },
  "language_info": {
   "codemirror_mode": {
    "name": "ipython",
    "version": 3
   },
   "file_extension": ".py",
   "mimetype": "text/x-python",
   "name": "python",
   "nbconvert_exporter": "python",
   "pygments_lexer": "ipython3",
   "version": "3.6.6"
  }
 },
 "nbformat": 4,
 "nbformat_minor": 2
}
